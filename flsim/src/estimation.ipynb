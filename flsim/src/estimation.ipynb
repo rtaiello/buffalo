{
 "cells": [
  {
   "cell_type": "code",
   "execution_count": 1,
   "metadata": {},
   "outputs": [],
   "source": [
    "#!/usr/bin/env python3\n",
    "# Copyright (c) Meta Platforms, Inc. and affiliates.\n",
    "# All rights reserved.\n",
    "#\n",
    "# This source code is licensed under the BSD-style license found in the\n",
    "# LICENSE file in the root directory of this source tree.\n",
    "\n",
    "# pyre-unsafe\n",
    "\n",
    "\n",
    "import torch\n",
    "from flsim.utils.timing.training_duration_distribution import (\n",
    "PerUserHalfNormalDurationDistribution,\n",
    "PerUserHalfNormalDurationDistributionConfig,\n",
    ")\n",
    "from flsim.utils.timing.training_time_estimator import (\n",
    "AsyncTrainingTimeEstimator)\n",
    "from omegaconf import OmegaConf\n",
    "\n",
    "def run(duration_min, rounds_async_fl, users_per_round_async_fl, num_users):\n",
    "    duration_std = 1.25\n",
    "\n",
    "    num_examples = None\n",
    "    training_dist = PerUserHalfNormalDurationDistribution(\n",
    "        **OmegaConf.structured(\n",
    "            PerUserHalfNormalDurationDistributionConfig(\n",
    "                training_duration_sd=duration_std,\n",
    "                training_duration_min=duration_min,\n",
    "            )\n",
    "        )\n",
    "    )\n",
    "\n",
    "    epochs_async_fl = int(rounds_async_fl * users_per_round_async_fl / num_users)\n",
    "    print(f\"Epochs: {epochs_async_fl}\")\n",
    "    async_estimator = AsyncTrainingTimeEstimator(\n",
    "        total_users=num_users,\n",
    "        users_per_round=users_per_round_async_fl,\n",
    "        epochs=epochs_async_fl,\n",
    "        num_examples=num_examples,\n",
    "        training_dist=training_dist,\n",
    "    )\n",
    "    async_time = async_estimator.training_time()\n",
    "    print(f\"Async {async_time}\")\n",
    "\n",
    "def bandiwth(num_clients, rounds_async_fl, dim_model):\n",
    "        bytes_comm = dim_model * num_clients * rounds_async_fl\n",
    "        # convert from bytes to GB\n",
    "        bytes_comm = bytes_comm / 1024 / 1024 / 1024\n",
    "        print(f\"Bandwidth: {bytes_comm}\")\n"
   ]
  },
  {
   "cell_type": "code",
   "execution_count": 2,
   "metadata": {},
   "outputs": [
    {
     "name": "stdout",
     "output_type": "stream",
     "text": [
      "REPLACE-BG\n",
      "Epochs: 147\n",
      "Async 1704.694091796875\n",
      "Bandwidth: 6.427466869354248\n",
      "CELEBA\n",
      "Epochs: 22\n",
      "Async 404.9036865234375\n",
      "Bandwidth: 1.518845558166504\n",
      "SENT140\n",
      "Epochs: 28\n",
      "Async 392.9781188964844\n",
      "Bandwidth: 92.26799011230469\n"
     ]
    }
   ],
   "source": [
    "torch.manual_seed(0)\n",
    "\n",
    "print(\"REPLACE-BG\")\n",
    "run(duration_min=0.03, rounds_async_fl=1659, users_per_round_async_fl=16, num_users=180)\n",
    "bandiwth(16, 1659, 260000)\n",
    "print(\"CELEBA\")\n",
    "run(duration_min=0.003, rounds_async_fl=411, users_per_round_async_fl=128, num_users=2337)\n",
    "bandiwth(128, 411, 31000)\n",
    "print(\"SENT140\")\n",
    "run(duration_min=0.015, rounds_async_fl=387, users_per_round_async_fl=256, num_users=3488)\n",
    "bandiwth(256, 387, 1e6)"
   ]
  },
  {
   "cell_type": "code",
   "execution_count": 3,
   "metadata": {},
   "outputs": [],
   "source": [
    "import pandas as pd\n",
    "\n",
    "def run_sa(path, num_clients, rounds_async_fl):\n",
    "    df = pd.read_csv(path)\n",
    "    df = df[df[\"clients\"] == num_clients]\n",
    "    df = df.groupby(\"clients\").mean()\n",
    "    total_time = (num_clients * df[\"avg client computation time (ms)\"]) * rounds_async_fl + rounds_async_fl * df[\"avg server computation time (ms)\"] + rounds_async_fl * (df['decryptors'] * df['avg decryptors computation time (ms)'])\n",
    "    # convert from ms to minutes\n",
    "    total_time = total_time / 60000\n",
    "    #convert to scalar\n",
    "    total_time = total_time.sum()\n",
    "    print(f\"SA {total_time}\")\n",
    "    \n",
    "def bandwith_sa(path, num_clients, rounds_async_fl):\n",
    "    df = pd.read_csv(path)\n",
    "    df = df[df[\"clients\"] == num_clients]\n",
    "    df = df.groupby(\"clients\").mean()\n",
    "    total_bandwidth = (num_clients * df[\"avg client bytes sent\"]) * rounds_async_fl + rounds_async_fl * ((df['avg decryptors bytes sent'] + df['avg decryptors bytes received'] )* df['decryptors'])\n",
    "    # convert from bytes to GB \n",
    "    total_bandwidth = total_bandwidth / 1e9\n",
    "    #convert to scalar\n",
    "    total_bandwidth = total_bandwidth.sum()\n",
    "    print(f\"SA bandiwtth {total_bandwidth}\")\n"
   ]
  },
  {
   "cell_type": "code",
   "execution_count": 9,
   "metadata": {},
   "outputs": [
    {
     "name": "stdout",
     "output_type": "stream",
     "text": [
      "Buffalo\n",
      "SA 169.04480857610702\n",
      "SA bandiwtth 14.521054464\n",
      "DPSecAgg\n",
      "SA 4322.917563529015\n",
      "SA bandiwtth 16.377064032\n"
     ]
    }
   ],
   "source": [
    "print(\"REPLACE-BG\")\n",
    "print(\"Buffalo\")\n",
    "run_sa(\"/home/taiello/projects/fl-med-devices/results_fl/ours_ss_f0.01.csv\", 16,1659)\n",
    "bandwith_sa(\"/home/taiello/projects/fl-med-devices/results_fl/ours_ss_f0.01.csv\", 16,1659)\n",
    "print(\"DPSecAgg\")\n",
    "run_sa(\"/home/taiello/projects/fl-med-devices/results_fl/stevens_f0.01.csv\", 16,1659)\n",
    "bandwith_sa(\"/home/taiello/projects/fl-med-devices/results_fl/stevens_f0.01.csv\", 16,1659)"
   ]
  },
  {
   "cell_type": "code",
   "execution_count": 10,
   "metadata": {},
   "outputs": [
    {
     "name": "stdout",
     "output_type": "stream",
     "text": [
      "Buffalo\n",
      "SA 347.64872247219085\n",
      "SA bandiwtth 9.830541312\n",
      "DPSecAgg\n",
      "SA 8120.888476519584\n",
      "SA bandiwtth 13.201359456\n"
     ]
    }
   ],
   "source": [
    "print(\"Buffalo\")\n",
    "run_sa(\"/home/taiello/projects/fl-med-devices/results_fl/ours_ss_f0.01.csv\", 128,411)\n",
    "bandwith_sa(\"/home/taiello/projects/fl-med-devices/results_fl/ours_ss_f0.01.csv\", 128,411)\n",
    "print(\"DPSecAgg\")\n",
    "run_sa(\"/home/taiello/projects/fl-med-devices/results_fl/stevens_f0.01.csv\", 128,411)\n",
    "bandwith_sa(\"/home/taiello/projects/fl-med-devices/results_fl/stevens_f0.01.csv\", 128,411)"
   ]
  },
  {
   "cell_type": "code",
   "execution_count": 4,
   "metadata": {},
   "outputs": [
    {
     "name": "stdout",
     "output_type": "stream",
     "text": [
      "Buffalo\n",
      "SA 822.7216954350472\n",
      "SA bandiwtth 389.616095232\n",
      "DPSecAgg\n",
      "SA 15392.618955688476\n",
      "SA bandiwtth 395.938981728\n"
     ]
    }
   ],
   "source": [
    "print(\"Buffalo\")\n",
    "run_sa(\"/home/taiello/projects/fl-med-devices/results_fl/ours_ss_f0.01.csv\", 256,387)\n",
    "bandwith_sa(\"/home/taiello/projects/fl-med-devices/results_fl/ours_ss_f0.01.csv\", 256,387)\n",
    "print(\"DPSecAgg\")\n",
    "run_sa(\"/home/taiello/projects/fl-med-devices/results_fl/stevens_f0.01.csv\", 256,387)\n",
    "bandwith_sa(\"/home/taiello/projects/fl-med-devices/results_fl/stevens_f0.01.csv\", 256,387)"
   ]
  },
  {
   "cell_type": "code",
   "execution_count": 5,
   "metadata": {},
   "outputs": [
    {
     "name": "stdout",
     "output_type": "stream",
     "text": [
      "Buffalo+\n",
      "SA 767.4119146633149\n",
      "SA bandiwtth 0.1132738656\n",
      "LightVeriFL\n",
      "SA 119068.91036276102\n",
      "SA bandiwtth 0.2106956544\n"
     ]
    }
   ],
   "source": [
    "print(\"Buffalo+\")\n",
    "run_sa(\"/home/taiello/projects/fl-med-devices/results_fl/ours_f0.01.csv\", 16, 1659)\n",
    "bandwith_sa(\"/home/taiello/projects/fl-med-devices/results_fl/ours_f0.01.csv\", 16, 1659)\n",
    "print(\"LightVeriFL\")\n",
    "run_sa(\"/home/taiello/projects/fl-med-devices/results_fl/lightveri-fl_f0.01.csv\", 16, 1659)\n",
    "bandwith_sa(\"/home/taiello/projects/fl-med-devices/results_fl/lightveri-fl_f0.01.csv\", 16, 1659)"
   ]
  },
  {
   "cell_type": "code",
   "execution_count": null,
   "metadata": {},
   "outputs": [],
   "source": []
  }
 ],
 "metadata": {
  "kernelspec": {
   "display_name": "glucose-prediction",
   "language": "python",
   "name": "python3"
  },
  "language_info": {
   "codemirror_mode": {
    "name": "ipython",
    "version": 3
   },
   "file_extension": ".py",
   "mimetype": "text/x-python",
   "name": "python",
   "nbconvert_exporter": "python",
   "pygments_lexer": "ipython3",
   "version": "3.8.18"
  }
 },
 "nbformat": 4,
 "nbformat_minor": 2
}
